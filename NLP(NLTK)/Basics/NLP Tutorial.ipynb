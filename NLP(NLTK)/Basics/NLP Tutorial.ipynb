{
 "cells": [
  {
   "cell_type": "code",
   "execution_count": 1,
   "metadata": {},
   "outputs": [],
   "source": [
    "import os\n",
    "import nltk\n",
    "import nltk.corpus as co"
   ]
  },
  {
   "cell_type": "code",
   "execution_count": 2,
   "metadata": {},
   "outputs": [
    {
     "name": "stdout",
     "output_type": "stream",
     "text": [
      "['abc', 'abc.zip', 'alpino', 'alpino.zip', 'biocreative_ppi', 'biocreative_ppi.zip', 'brown', 'brown.zip', 'brown_tei', 'brown_tei.zip', 'cess_cat', 'cess_cat.zip', 'cess_esp', 'cess_esp.zip', 'chat80', 'chat80.zip', 'city_database', 'city_database.zip', 'cmudict', 'cmudict.zip', 'comparative_sentences', 'comparative_sentences.zip', 'comtrans.zip', 'conll2000', 'conll2000.zip', 'conll2002', 'conll2002.zip', 'conll2007.zip', 'crubadan', 'crubadan.zip', 'dependency_treebank', 'dependency_treebank.zip', 'dolch', 'dolch.zip', 'europarl_raw', 'europarl_raw.zip', 'floresta', 'floresta.zip', 'framenet_v15', 'framenet_v15.zip', 'framenet_v17', 'framenet_v17.zip', 'gazetteers', 'gazetteers.zip', 'genesis', 'genesis.zip', 'gutenberg', 'gutenberg.zip', 'ieer', 'ieer.zip', 'inaugural', 'inaugural.zip', 'indian', 'indian.zip', 'jeita.zip', 'kimmo', 'kimmo.zip', 'knbc.zip', 'lin_thesaurus', 'lin_thesaurus.zip', 'machado.zip', 'mac_morpho', 'mac_morpho.zip', 'masc_tagged.zip', 'movie_reviews', 'movie_reviews.zip', 'mte_teip5', 'mte_teip5.zip', 'names', 'names.zip', 'nombank.1.0.zip', 'nonbreaking_prefixes', 'nonbreaking_prefixes.zip', 'nps_chat', 'nps_chat.zip', 'omw', 'omw.zip', 'opinion_lexicon', 'opinion_lexicon.zip', 'panlex_swadesh.zip', 'paradigms', 'paradigms.zip', 'pil', 'pil.zip', 'pl196x', 'pl196x.zip', 'ppattach', 'ppattach.zip', 'problem_reports', 'problem_reports.zip', 'product_reviews_1', 'product_reviews_1.zip', 'product_reviews_2', 'product_reviews_2.zip', 'propbank.zip', 'pros_cons', 'pros_cons.zip', 'ptb', 'ptb.zip', 'qc', 'qc.zip', 'reuters.zip', 'rte', 'rte.zip', 'semcor.zip', 'senseval', 'senseval.zip', 'sentence_polarity', 'sentence_polarity.zip', 'sentiwordnet', 'sentiwordnet.zip', 'shakespeare', 'shakespeare.zip', 'sinica_treebank', 'sinica_treebank.zip', 'smultron', 'smultron.zip', 'state_union', 'state_union.zip', 'stopwords', 'stopwords.zip', 'subjectivity', 'subjectivity.zip', 'swadesh', 'swadesh.zip', 'switchboard', 'switchboard.zip', 'timit', 'timit.zip', 'toolbox', 'toolbox.zip', 'treebank', 'treebank.zip', 'twitter_samples', 'twitter_samples.zip', 'udhr', 'udhr.zip', 'udhr2', 'udhr2.zip', 'unicode_samples', 'unicode_samples.zip', 'universal_treebanks_v20.zip', 'verbnet', 'verbnet.zip', 'verbnet3', 'verbnet3.zip', 'webtext', 'webtext.zip', 'wordnet', 'wordnet.zip', 'wordnet_ic', 'wordnet_ic.zip', 'words', 'words.zip', 'ycoe', 'ycoe.zip']\n"
     ]
    }
   ],
   "source": [
    "print(os.listdir(nltk.data.find(\"corpora\")))"
   ]
  },
  {
   "cell_type": "code",
   "execution_count": 3,
   "metadata": {},
   "outputs": [
    {
     "data": {
      "text/plain": [
       "['austen-emma.txt',\n",
       " 'austen-persuasion.txt',\n",
       " 'austen-sense.txt',\n",
       " 'bible-kjv.txt',\n",
       " 'blake-poems.txt',\n",
       " 'bryant-stories.txt',\n",
       " 'burgess-busterbrown.txt',\n",
       " 'carroll-alice.txt',\n",
       " 'chesterton-ball.txt',\n",
       " 'chesterton-brown.txt',\n",
       " 'chesterton-thursday.txt',\n",
       " 'edgeworth-parents.txt',\n",
       " 'melville-moby_dick.txt',\n",
       " 'milton-paradise.txt',\n",
       " 'shakespeare-caesar.txt',\n",
       " 'shakespeare-hamlet.txt',\n",
       " 'shakespeare-macbeth.txt',\n",
       " 'whitman-leaves.txt']"
      ]
     },
     "execution_count": 3,
     "metadata": {},
     "output_type": "execute_result"
    }
   ],
   "source": [
    "co.gutenberg.fileids()"
   ]
  },
  {
   "cell_type": "code",
   "execution_count": 4,
   "metadata": {},
   "outputs": [
    {
     "data": {
      "text/plain": [
       "['[', 'The', 'Tragedie', 'of', 'Hamlet', 'by', ...]"
      ]
     },
     "execution_count": 4,
     "metadata": {},
     "output_type": "execute_result"
    }
   ],
   "source": [
    "hamlet = co.gutenberg.words('shakespeare-hamlet.txt')\n",
    "hamlet"
   ]
  },
  {
   "cell_type": "code",
   "execution_count": 5,
   "metadata": {},
   "outputs": [
    {
     "name": "stdout",
     "output_type": "stream",
     "text": [
      "[ The Tragedie of Hamlet by William Shakespeare 1599 ] Actus Primus . Scoena Prima . Enter Barnardo and Francisco two Centinels . Barnardo . Who ' s there ? Fran . Nay answer me : Stand & vnfold your selfe Bar . Long liue the King Fran . Barnardo ? Bar . He Fran . You come most carefully vpon your houre Bar . ' Tis now strook twelue , get thee to bed Francisco Fran . For this releefe much thankes : ' Tis bitter cold , And I am sicke at heart Barn . Haue you had quiet Guard ? Fran . Not a Mouse stirring Barn . Well , goodnight . If you do meet Horatio and Marcellus , the Riuals of my Watch , bid them make hast . Enter Horatio and Marcellus . Fran . I thinke I heare them . Stand : who ' s there ? Hor . Friends to this ground Mar . And Leige - men to the Dane Fran . Giue you good night Mar . O farwel honest Soldier , who hath relieu ' d you ? Fra . Barnardo ha ' s my place : giue you goodnight . Exit Fran . Mar . Holla Barnardo Bar . Say , what is Horatio there ? Hor . A peece of him Bar . Welcome Horatio , welcome good Marcellus Mar . What , ha ' s this thing appear ' d againe to night Bar . I haue seene nothing Mar . Horatio saies , ' tis but our Fantasie , And will not let beleefe take hold of him Touching this dreaded sight , twice seene of vs , Therefore I haue intreated him along With vs , to watch the minutes of this Night , That if againe this Apparition come , He may approue our eyes , and speake to it Hor . Tush , tush , ' twill not appeare Bar . Sit downe a - while , And let vs once againe assaile your eares , That are so fortified against our Story , What we two Nights haue seene Hor . Well , sit we downe , And let vs heare Barnardo speake of this Barn . Last night of all , When yond same Starre that ' s Westward from the Pole Had made his course t ' illume that part of Heauen Where now it burnes , Marcellus and my selfe , The Bell then beating one Mar . Peace , breake thee of : Enter the Ghost . Looke where it comes againe Barn . In the same figure , like the King that ' s dead Mar . Thou art a Scholler ; speake to it Horatio Barn . Lookes it not like the King ? Marke it Horatio Hora . Most like : It harrowes me with fear & wonder Barn . It would be spoke too Mar . Question it Horatio Hor . What art "
     ]
    }
   ],
   "source": [
    "for word in hamlet[:500]:\n",
    "    print(word, end=\" \", sep=\" \")"
   ]
  },
  {
   "cell_type": "code",
   "execution_count": 6,
   "metadata": {},
   "outputs": [
    {
     "data": {
      "text/plain": [
       "nltk.corpus.reader.util.StreamBackedCorpusView"
      ]
     },
     "execution_count": 6,
     "metadata": {},
     "output_type": "execute_result"
    }
   ],
   "source": [
    "type(hamlet)"
   ]
  },
  {
   "cell_type": "markdown",
   "metadata": {},
   "source": [
    "# Tokenization"
   ]
  },
  {
   "cell_type": "code",
   "execution_count": 7,
   "metadata": {},
   "outputs": [],
   "source": [
    "## To tokenize the string by words"
   ]
  },
  {
   "cell_type": "code",
   "execution_count": 8,
   "metadata": {},
   "outputs": [],
   "source": [
    "ham = \" The Tragedie of Hamlet by William Shakespeare 1599 ] Actus Primus . Scoena Prima . Enter Barnardo and Francisco two Centinels . Barnardo . Who ' s there ? Fran . Nay answer me : Stand & vnfold your selfe Bar . Long liue the King Fran . Barnardo ? Bar . He Fran . You come most carefully vpon your houre Bar . ' Tis now strook twelue , get thee to bed Francisco Fran . For this releefe much thankes : ' Tis bitter cold , And I am sicke at heart Barn . Haue you had quiet Guard ? Fran . Not a Mouse stirring Barn . Well , goodnight . If you do meet Horatio and Marcellus , the Riuals of my Watch , bid them make hast . Enter Horatio and Marcellus . Fran . I thinke I heare them . Stand : who ' s there ? Hor . Friends to this ground Mar . And Leige - men to the Dane Fran . Giue you good night Mar . O farwel honest Soldier , who hath relieu ' d you ? Fra . Barnardo ha ' s my place : giue you goodnight . Exit Fran . Mar . Holla Barnardo Bar . Say , what is Horatio there ? Hor . A peece of him Bar . Welcome Horatio , welcome good Marcellus Mar . What , ha ' s this thing appear ' d againe to night Bar . I haue seene nothing Mar . Horatio saies , ' tis but our Fantasie , And will not let beleefe take hold of him Touching this dreaded sight , twice seene of vs , Therefore I haue intreated him along With vs , to watch the minutes of this Night , That if againe this Apparition come , He may approue our eyes , and speake to it Hor . Tush , tush , ' twill not appeare Bar . Sit downe a - while , And let vs once againe assaile your eares , That are so fortified against our Story , What we two Nights haue seene Hor . Well , sit we downe , And let vs heare Barnardo speake of this Barn . Last night of all , When yond same Starre that ' s Westward from the Pole Had made his course t ' illume that part of Heauen Where now it burnes , Marcellus and my selfe , The Bell then beating one Mar . Peace , breake thee of : Enter the Ghost . Looke where it comes againe Barn . In the same figure , like the King that ' s dead Mar . Thou art a Scholler ; speake to it Horatio Barn . Lookes it not like the King ? Marke it Horatio Hora . Most like : It harrowes me with fear & wonder Barn . It would be spoke too Mar . Question it Horatio Hor .\""
   ]
  },
  {
   "cell_type": "code",
   "execution_count": 9,
   "metadata": {},
   "outputs": [
    {
     "data": {
      "text/plain": [
       "str"
      ]
     },
     "execution_count": 9,
     "metadata": {},
     "output_type": "execute_result"
    }
   ],
   "source": [
    "type(ham)"
   ]
  },
  {
   "cell_type": "code",
   "execution_count": 10,
   "metadata": {},
   "outputs": [
    {
     "data": {
      "text/plain": [
       "['The',\n",
       " 'Tragedie',\n",
       " 'of',\n",
       " 'Hamlet',\n",
       " 'by',\n",
       " 'William',\n",
       " 'Shakespeare',\n",
       " '1599',\n",
       " ']',\n",
       " 'Actus',\n",
       " 'Primus',\n",
       " '.',\n",
       " 'Scoena',\n",
       " 'Prima',\n",
       " '.',\n",
       " 'Enter',\n",
       " 'Barnardo',\n",
       " 'and',\n",
       " 'Francisco',\n",
       " 'two',\n",
       " 'Centinels',\n",
       " '.',\n",
       " 'Barnardo',\n",
       " '.',\n",
       " 'Who',\n",
       " \"'\",\n",
       " 's',\n",
       " 'there',\n",
       " '?',\n",
       " 'Fran',\n",
       " '.',\n",
       " 'Nay',\n",
       " 'answer',\n",
       " 'me',\n",
       " ':',\n",
       " 'Stand',\n",
       " '&',\n",
       " 'vnfold',\n",
       " 'your',\n",
       " 'selfe',\n",
       " 'Bar',\n",
       " '.',\n",
       " 'Long',\n",
       " 'liue',\n",
       " 'the',\n",
       " 'King',\n",
       " 'Fran',\n",
       " '.',\n",
       " 'Barnardo',\n",
       " '?',\n",
       " 'Bar',\n",
       " '.',\n",
       " 'He',\n",
       " 'Fran',\n",
       " '.',\n",
       " 'You',\n",
       " 'come',\n",
       " 'most',\n",
       " 'carefully',\n",
       " 'vpon',\n",
       " 'your',\n",
       " 'houre',\n",
       " 'Bar',\n",
       " '.',\n",
       " \"'\",\n",
       " 'Tis',\n",
       " 'now',\n",
       " 'strook',\n",
       " 'twelue',\n",
       " ',',\n",
       " 'get',\n",
       " 'thee',\n",
       " 'to',\n",
       " 'bed',\n",
       " 'Francisco',\n",
       " 'Fran',\n",
       " '.',\n",
       " 'For',\n",
       " 'this',\n",
       " 'releefe',\n",
       " 'much',\n",
       " 'thankes',\n",
       " ':',\n",
       " \"'\",\n",
       " 'Tis',\n",
       " 'bitter',\n",
       " 'cold',\n",
       " ',',\n",
       " 'And',\n",
       " 'I',\n",
       " 'am',\n",
       " 'sicke',\n",
       " 'at',\n",
       " 'heart',\n",
       " 'Barn',\n",
       " '.',\n",
       " 'Haue',\n",
       " 'you',\n",
       " 'had',\n",
       " 'quiet',\n",
       " 'Guard',\n",
       " '?',\n",
       " 'Fran',\n",
       " '.',\n",
       " 'Not',\n",
       " 'a',\n",
       " 'Mouse',\n",
       " 'stirring',\n",
       " 'Barn',\n",
       " '.',\n",
       " 'Well',\n",
       " ',',\n",
       " 'goodnight',\n",
       " '.',\n",
       " 'If',\n",
       " 'you',\n",
       " 'do',\n",
       " 'meet',\n",
       " 'Horatio',\n",
       " 'and',\n",
       " 'Marcellus',\n",
       " ',',\n",
       " 'the',\n",
       " 'Riuals',\n",
       " 'of',\n",
       " 'my',\n",
       " 'Watch',\n",
       " ',',\n",
       " 'bid',\n",
       " 'them',\n",
       " 'make',\n",
       " 'hast',\n",
       " '.',\n",
       " 'Enter',\n",
       " 'Horatio',\n",
       " 'and',\n",
       " 'Marcellus',\n",
       " '.',\n",
       " 'Fran',\n",
       " '.',\n",
       " 'I',\n",
       " 'thinke',\n",
       " 'I',\n",
       " 'heare',\n",
       " 'them',\n",
       " '.',\n",
       " 'Stand',\n",
       " ':',\n",
       " 'who',\n",
       " \"'\",\n",
       " 's',\n",
       " 'there',\n",
       " '?',\n",
       " 'Hor',\n",
       " '.',\n",
       " 'Friends',\n",
       " 'to',\n",
       " 'this',\n",
       " 'ground',\n",
       " 'Mar',\n",
       " '.',\n",
       " 'And',\n",
       " 'Leige',\n",
       " '-',\n",
       " 'men',\n",
       " 'to',\n",
       " 'the',\n",
       " 'Dane',\n",
       " 'Fran',\n",
       " '.',\n",
       " 'Giue',\n",
       " 'you',\n",
       " 'good',\n",
       " 'night',\n",
       " 'Mar',\n",
       " '.',\n",
       " 'O',\n",
       " 'farwel',\n",
       " 'honest',\n",
       " 'Soldier',\n",
       " ',',\n",
       " 'who',\n",
       " 'hath',\n",
       " 'relieu',\n",
       " \"'\",\n",
       " 'd',\n",
       " 'you',\n",
       " '?',\n",
       " 'Fra',\n",
       " '.',\n",
       " 'Barnardo',\n",
       " 'ha',\n",
       " \"'\",\n",
       " 's',\n",
       " 'my',\n",
       " 'place',\n",
       " ':',\n",
       " 'giue',\n",
       " 'you',\n",
       " 'goodnight',\n",
       " '.',\n",
       " 'Exit',\n",
       " 'Fran',\n",
       " '.',\n",
       " 'Mar',\n",
       " '.',\n",
       " 'Holla',\n",
       " 'Barnardo',\n",
       " 'Bar',\n",
       " '.',\n",
       " 'Say',\n",
       " ',',\n",
       " 'what',\n",
       " 'is',\n",
       " 'Horatio',\n",
       " 'there',\n",
       " '?',\n",
       " 'Hor',\n",
       " '.',\n",
       " 'A',\n",
       " 'peece',\n",
       " 'of',\n",
       " 'him',\n",
       " 'Bar',\n",
       " '.',\n",
       " 'Welcome',\n",
       " 'Horatio',\n",
       " ',',\n",
       " 'welcome',\n",
       " 'good',\n",
       " 'Marcellus',\n",
       " 'Mar',\n",
       " '.',\n",
       " 'What',\n",
       " ',',\n",
       " 'ha',\n",
       " \"'\",\n",
       " 's',\n",
       " 'this',\n",
       " 'thing',\n",
       " 'appear',\n",
       " \"'\",\n",
       " 'd',\n",
       " 'againe',\n",
       " 'to',\n",
       " 'night',\n",
       " 'Bar',\n",
       " '.',\n",
       " 'I',\n",
       " 'haue',\n",
       " 'seene',\n",
       " 'nothing',\n",
       " 'Mar',\n",
       " '.',\n",
       " 'Horatio',\n",
       " 'saies',\n",
       " ',',\n",
       " \"'\",\n",
       " 'tis',\n",
       " 'but',\n",
       " 'our',\n",
       " 'Fantasie',\n",
       " ',',\n",
       " 'And',\n",
       " 'will',\n",
       " 'not',\n",
       " 'let',\n",
       " 'beleefe',\n",
       " 'take',\n",
       " 'hold',\n",
       " 'of',\n",
       " 'him',\n",
       " 'Touching',\n",
       " 'this',\n",
       " 'dreaded',\n",
       " 'sight',\n",
       " ',',\n",
       " 'twice',\n",
       " 'seene',\n",
       " 'of',\n",
       " 'vs',\n",
       " ',',\n",
       " 'Therefore',\n",
       " 'I',\n",
       " 'haue',\n",
       " 'intreated',\n",
       " 'him',\n",
       " 'along',\n",
       " 'With',\n",
       " 'vs',\n",
       " ',',\n",
       " 'to',\n",
       " 'watch',\n",
       " 'the',\n",
       " 'minutes',\n",
       " 'of',\n",
       " 'this',\n",
       " 'Night',\n",
       " ',',\n",
       " 'That',\n",
       " 'if',\n",
       " 'againe',\n",
       " 'this',\n",
       " 'Apparition',\n",
       " 'come',\n",
       " ',',\n",
       " 'He',\n",
       " 'may',\n",
       " 'approue',\n",
       " 'our',\n",
       " 'eyes',\n",
       " ',',\n",
       " 'and',\n",
       " 'speake',\n",
       " 'to',\n",
       " 'it',\n",
       " 'Hor',\n",
       " '.',\n",
       " 'Tush',\n",
       " ',',\n",
       " 'tush',\n",
       " ',',\n",
       " \"'\",\n",
       " 'twill',\n",
       " 'not',\n",
       " 'appeare',\n",
       " 'Bar',\n",
       " '.',\n",
       " 'Sit',\n",
       " 'downe',\n",
       " 'a',\n",
       " '-',\n",
       " 'while',\n",
       " ',',\n",
       " 'And',\n",
       " 'let',\n",
       " 'vs',\n",
       " 'once',\n",
       " 'againe',\n",
       " 'assaile',\n",
       " 'your',\n",
       " 'eares',\n",
       " ',',\n",
       " 'That',\n",
       " 'are',\n",
       " 'so',\n",
       " 'fortified',\n",
       " 'against',\n",
       " 'our',\n",
       " 'Story',\n",
       " ',',\n",
       " 'What',\n",
       " 'we',\n",
       " 'two',\n",
       " 'Nights',\n",
       " 'haue',\n",
       " 'seene',\n",
       " 'Hor',\n",
       " '.',\n",
       " 'Well',\n",
       " ',',\n",
       " 'sit',\n",
       " 'we',\n",
       " 'downe',\n",
       " ',',\n",
       " 'And',\n",
       " 'let',\n",
       " 'vs',\n",
       " 'heare',\n",
       " 'Barnardo',\n",
       " 'speake',\n",
       " 'of',\n",
       " 'this',\n",
       " 'Barn',\n",
       " '.',\n",
       " 'Last',\n",
       " 'night',\n",
       " 'of',\n",
       " 'all',\n",
       " ',',\n",
       " 'When',\n",
       " 'yond',\n",
       " 'same',\n",
       " 'Starre',\n",
       " 'that',\n",
       " \"'\",\n",
       " 's',\n",
       " 'Westward',\n",
       " 'from',\n",
       " 'the',\n",
       " 'Pole',\n",
       " 'Had',\n",
       " 'made',\n",
       " 'his',\n",
       " 'course',\n",
       " 't',\n",
       " \"'\",\n",
       " 'illume',\n",
       " 'that',\n",
       " 'part',\n",
       " 'of',\n",
       " 'Heauen',\n",
       " 'Where',\n",
       " 'now',\n",
       " 'it',\n",
       " 'burnes',\n",
       " ',',\n",
       " 'Marcellus',\n",
       " 'and',\n",
       " 'my',\n",
       " 'selfe',\n",
       " ',',\n",
       " 'The',\n",
       " 'Bell',\n",
       " 'then',\n",
       " 'beating',\n",
       " 'one',\n",
       " 'Mar',\n",
       " '.',\n",
       " 'Peace',\n",
       " ',',\n",
       " 'breake',\n",
       " 'thee',\n",
       " 'of',\n",
       " ':',\n",
       " 'Enter',\n",
       " 'the',\n",
       " 'Ghost',\n",
       " '.',\n",
       " 'Looke',\n",
       " 'where',\n",
       " 'it',\n",
       " 'comes',\n",
       " 'againe',\n",
       " 'Barn',\n",
       " '.',\n",
       " 'In',\n",
       " 'the',\n",
       " 'same',\n",
       " 'figure',\n",
       " ',',\n",
       " 'like',\n",
       " 'the',\n",
       " 'King',\n",
       " 'that',\n",
       " \"'\",\n",
       " 's',\n",
       " 'dead',\n",
       " 'Mar',\n",
       " '.',\n",
       " 'Thou',\n",
       " 'art',\n",
       " 'a',\n",
       " 'Scholler',\n",
       " ';',\n",
       " 'speake',\n",
       " 'to',\n",
       " 'it',\n",
       " 'Horatio',\n",
       " 'Barn',\n",
       " '.',\n",
       " 'Lookes',\n",
       " 'it',\n",
       " 'not',\n",
       " 'like',\n",
       " 'the',\n",
       " 'King',\n",
       " '?',\n",
       " 'Marke',\n",
       " 'it',\n",
       " 'Horatio',\n",
       " 'Hora',\n",
       " '.',\n",
       " 'Most',\n",
       " 'like',\n",
       " ':',\n",
       " 'It',\n",
       " 'harrowes',\n",
       " 'me',\n",
       " 'with',\n",
       " 'fear',\n",
       " '&',\n",
       " 'wonder',\n",
       " 'Barn',\n",
       " '.',\n",
       " 'It',\n",
       " 'would',\n",
       " 'be',\n",
       " 'spoke',\n",
       " 'too',\n",
       " 'Mar',\n",
       " '.',\n",
       " 'Question',\n",
       " 'it',\n",
       " 'Horatio',\n",
       " 'Hor',\n",
       " '.']"
      ]
     },
     "execution_count": 10,
     "metadata": {},
     "output_type": "execute_result"
    }
   ],
   "source": [
    "from nltk.tokenize import word_tokenize as w_t\n",
    "ham_tokens = w_t(ham)\n",
    "ham_tokens"
   ]
  },
  {
   "cell_type": "code",
   "execution_count": 11,
   "metadata": {},
   "outputs": [
    {
     "data": {
      "text/plain": [
       "497"
      ]
     },
     "execution_count": 11,
     "metadata": {},
     "output_type": "execute_result"
    }
   ],
   "source": [
    "len(ham_tokens)"
   ]
  },
  {
   "cell_type": "code",
   "execution_count": 12,
   "metadata": {},
   "outputs": [],
   "source": [
    "## To count number of repetitive words"
   ]
  },
  {
   "cell_type": "code",
   "execution_count": 13,
   "metadata": {},
   "outputs": [],
   "source": [
    "from nltk.probability import FreqDist\n",
    "fdist = FreqDist()"
   ]
  },
  {
   "cell_type": "code",
   "execution_count": 14,
   "metadata": {},
   "outputs": [
    {
     "data": {
      "text/plain": [
       "FreqDist({'.': 46, ',': 29, \"'\": 13, 'the': 11, 'of': 10, 'and': 10, 'it': 9, 'fran': 8, 'horatio': 8, 'mar': 8, ...})"
      ]
     },
     "execution_count": 14,
     "metadata": {},
     "output_type": "execute_result"
    }
   ],
   "source": [
    "for word in ham_tokens:\n",
    "    fdist[word.lower()]+=1\n",
    "fdist"
   ]
  },
  {
   "cell_type": "code",
   "execution_count": 15,
   "metadata": {},
   "outputs": [
    {
     "data": {
      "text/plain": [
       "11"
      ]
     },
     "execution_count": 15,
     "metadata": {},
     "output_type": "execute_result"
    }
   ],
   "source": [
    "fdist['the']"
   ]
  },
  {
   "cell_type": "code",
   "execution_count": 16,
   "metadata": {},
   "outputs": [
    {
     "data": {
      "text/plain": [
       "214"
      ]
     },
     "execution_count": 16,
     "metadata": {},
     "output_type": "execute_result"
    }
   ],
   "source": [
    "len(fdist)"
   ]
  },
  {
   "cell_type": "code",
   "execution_count": 17,
   "metadata": {},
   "outputs": [
    {
     "data": {
      "text/plain": [
       "[('.', 46),\n",
       " (',', 29),\n",
       " (\"'\", 13),\n",
       " ('the', 11),\n",
       " ('of', 10),\n",
       " ('and', 10),\n",
       " ('it', 9),\n",
       " ('fran', 8),\n",
       " ('horatio', 8),\n",
       " ('mar', 8)]"
      ]
     },
     "execution_count": 17,
     "metadata": {},
     "output_type": "execute_result"
    }
   ],
   "source": [
    "fdist_top10 = fdist.most_common(10)\n",
    "fdist_top10"
   ]
  },
  {
   "cell_type": "code",
   "execution_count": 18,
   "metadata": {},
   "outputs": [],
   "source": [
    "## No. of paragraphs separated by a new line"
   ]
  },
  {
   "cell_type": "code",
   "execution_count": 19,
   "metadata": {},
   "outputs": [
    {
     "data": {
      "text/plain": [
       "1"
      ]
     },
     "execution_count": 19,
     "metadata": {},
     "output_type": "execute_result"
    }
   ],
   "source": [
    "from nltk.tokenize import blankline_tokenize as b_t\n",
    "ham_blank = b_t(ham)\n",
    "len(ham_blank)"
   ]
  },
  {
   "cell_type": "code",
   "execution_count": 20,
   "metadata": {},
   "outputs": [
    {
     "data": {
      "text/plain": [
       "\" The Tragedie of Hamlet by William Shakespeare 1599 ] Actus Primus . Scoena Prima . Enter Barnardo and Francisco two Centinels . Barnardo . Who ' s there ? Fran . Nay answer me : Stand & vnfold your selfe Bar . Long liue the King Fran . Barnardo ? Bar . He Fran . You come most carefully vpon your houre Bar . ' Tis now strook twelue , get thee to bed Francisco Fran . For this releefe much thankes : ' Tis bitter cold , And I am sicke at heart Barn . Haue you had quiet Guard ? Fran . Not a Mouse stirring Barn . Well , goodnight . If you do meet Horatio and Marcellus , the Riuals of my Watch , bid them make hast . Enter Horatio and Marcellus . Fran . I thinke I heare them . Stand : who ' s there ? Hor . Friends to this ground Mar . And Leige - men to the Dane Fran . Giue you good night Mar . O farwel honest Soldier , who hath relieu ' d you ? Fra . Barnardo ha ' s my place : giue you goodnight . Exit Fran . Mar . Holla Barnardo Bar . Say , what is Horatio there ? Hor . A peece of him Bar . Welcome Horatio , welcome good Marcellus Mar . What , ha ' s this thing appear ' d againe to night Bar . I haue seene nothing Mar . Horatio saies , ' tis but our Fantasie , And will not let beleefe take hold of him Touching this dreaded sight , twice seene of vs , Therefore I haue intreated him along With vs , to watch the minutes of this Night , That if againe this Apparition come , He may approue our eyes , and speake to it Hor . Tush , tush , ' twill not appeare Bar . Sit downe a - while , And let vs once againe assaile your eares , That are so fortified against our Story , What we two Nights haue seene Hor . Well , sit we downe , And let vs heare Barnardo speake of this Barn . Last night of all , When yond same Starre that ' s Westward from the Pole Had made his course t ' illume that part of Heauen Where now it burnes , Marcellus and my selfe , The Bell then beating one Mar . Peace , breake thee of : Enter the Ghost . Looke where it comes againe Barn . In the same figure , like the King that ' s dead Mar . Thou art a Scholler ; speake to it Horatio Barn . Lookes it not like the King ? Marke it Horatio Hora . Most like : It harrowes me with fear & wonder Barn . It would be spoke too Mar . Question it Horatio Hor .\""
      ]
     },
     "execution_count": 20,
     "metadata": {},
     "output_type": "execute_result"
    }
   ],
   "source": [
    "ham_blank[0]"
   ]
  },
  {
   "cell_type": "code",
   "execution_count": 21,
   "metadata": {},
   "outputs": [],
   "source": [
    "## Bigrams, Trigrams and Ngrams."
   ]
  },
  {
   "cell_type": "code",
   "execution_count": 22,
   "metadata": {},
   "outputs": [],
   "source": [
    "from nltk.util import bigrams, trigrams, ngrams"
   ]
  },
  {
   "cell_type": "code",
   "execution_count": 23,
   "metadata": {},
   "outputs": [
    {
     "data": {
      "text/plain": [
       "['Naman',\n",
       " 'is',\n",
       " 'a',\n",
       " 'beautiful',\n",
       " 'boy',\n",
       " '.',\n",
       " 'He',\n",
       " 'is',\n",
       " 'just',\n",
       " 'a',\n",
       " 'weeny',\n",
       " 'bit',\n",
       " 'narcissist',\n",
       " '.',\n",
       " 'And',\n",
       " 'we',\n",
       " 'all',\n",
       " 'know',\n",
       " ',',\n",
       " 'respect',\n",
       " 'and',\n",
       " 'love',\n",
       " 'that',\n",
       " '.']"
      ]
     },
     "execution_count": 23,
     "metadata": {},
     "output_type": "execute_result"
    }
   ],
   "source": [
    "str = \"Naman is a beautiful boy. He is just a weeny bit narcissist. And we all know, respect and love that.\"\n",
    "str_token = w_t(str)\n",
    "str_token"
   ]
  },
  {
   "cell_type": "code",
   "execution_count": 24,
   "metadata": {},
   "outputs": [
    {
     "data": {
      "text/plain": [
       "[('Naman', 'is'),\n",
       " ('is', 'a'),\n",
       " ('a', 'beautiful'),\n",
       " ('beautiful', 'boy'),\n",
       " ('boy', '.'),\n",
       " ('.', 'He'),\n",
       " ('He', 'is'),\n",
       " ('is', 'just'),\n",
       " ('just', 'a'),\n",
       " ('a', 'weeny'),\n",
       " ('weeny', 'bit'),\n",
       " ('bit', 'narcissist'),\n",
       " ('narcissist', '.'),\n",
       " ('.', 'And'),\n",
       " ('And', 'we'),\n",
       " ('we', 'all'),\n",
       " ('all', 'know'),\n",
       " ('know', ','),\n",
       " (',', 'respect'),\n",
       " ('respect', 'and'),\n",
       " ('and', 'love'),\n",
       " ('love', 'that'),\n",
       " ('that', '.')]"
      ]
     },
     "execution_count": 24,
     "metadata": {},
     "output_type": "execute_result"
    }
   ],
   "source": [
    "str_big = list(bigrams(str_token))\n",
    "str_big"
   ]
  },
  {
   "cell_type": "code",
   "execution_count": 25,
   "metadata": {},
   "outputs": [
    {
     "data": {
      "text/plain": [
       "[('Naman', 'is', 'a'),\n",
       " ('is', 'a', 'beautiful'),\n",
       " ('a', 'beautiful', 'boy'),\n",
       " ('beautiful', 'boy', '.'),\n",
       " ('boy', '.', 'He'),\n",
       " ('.', 'He', 'is'),\n",
       " ('He', 'is', 'just'),\n",
       " ('is', 'just', 'a'),\n",
       " ('just', 'a', 'weeny'),\n",
       " ('a', 'weeny', 'bit'),\n",
       " ('weeny', 'bit', 'narcissist'),\n",
       " ('bit', 'narcissist', '.'),\n",
       " ('narcissist', '.', 'And'),\n",
       " ('.', 'And', 'we'),\n",
       " ('And', 'we', 'all'),\n",
       " ('we', 'all', 'know'),\n",
       " ('all', 'know', ','),\n",
       " ('know', ',', 'respect'),\n",
       " (',', 'respect', 'and'),\n",
       " ('respect', 'and', 'love'),\n",
       " ('and', 'love', 'that'),\n",
       " ('love', 'that', '.')]"
      ]
     },
     "execution_count": 25,
     "metadata": {},
     "output_type": "execute_result"
    }
   ],
   "source": [
    "str_tri = list(trigrams(str_token))\n",
    "str_tri"
   ]
  },
  {
   "cell_type": "code",
   "execution_count": 26,
   "metadata": {},
   "outputs": [
    {
     "data": {
      "text/plain": [
       "[('Naman', 'is', 'a', 'beautiful', 'boy', '.'),\n",
       " ('is', 'a', 'beautiful', 'boy', '.', 'He'),\n",
       " ('a', 'beautiful', 'boy', '.', 'He', 'is'),\n",
       " ('beautiful', 'boy', '.', 'He', 'is', 'just'),\n",
       " ('boy', '.', 'He', 'is', 'just', 'a'),\n",
       " ('.', 'He', 'is', 'just', 'a', 'weeny'),\n",
       " ('He', 'is', 'just', 'a', 'weeny', 'bit'),\n",
       " ('is', 'just', 'a', 'weeny', 'bit', 'narcissist'),\n",
       " ('just', 'a', 'weeny', 'bit', 'narcissist', '.'),\n",
       " ('a', 'weeny', 'bit', 'narcissist', '.', 'And'),\n",
       " ('weeny', 'bit', 'narcissist', '.', 'And', 'we'),\n",
       " ('bit', 'narcissist', '.', 'And', 'we', 'all'),\n",
       " ('narcissist', '.', 'And', 'we', 'all', 'know'),\n",
       " ('.', 'And', 'we', 'all', 'know', ','),\n",
       " ('And', 'we', 'all', 'know', ',', 'respect'),\n",
       " ('we', 'all', 'know', ',', 'respect', 'and'),\n",
       " ('all', 'know', ',', 'respect', 'and', 'love'),\n",
       " ('know', ',', 'respect', 'and', 'love', 'that'),\n",
       " (',', 'respect', 'and', 'love', 'that', '.')]"
      ]
     },
     "execution_count": 26,
     "metadata": {},
     "output_type": "execute_result"
    }
   ],
   "source": [
    "str_ng = list(ngrams(str_token, 6))\n",
    "str_ng"
   ]
  },
  {
   "cell_type": "markdown",
   "metadata": {},
   "source": [
    "# Stemming"
   ]
  },
  {
   "cell_type": "code",
   "execution_count": 27,
   "metadata": {},
   "outputs": [],
   "source": [
    "from nltk.stem import PorterStemmer\n",
    "pst=PorterStemmer()"
   ]
  },
  {
   "cell_type": "code",
   "execution_count": 28,
   "metadata": {},
   "outputs": [
    {
     "data": {
      "text/plain": [
       "'love'"
      ]
     },
     "execution_count": 28,
     "metadata": {},
     "output_type": "execute_result"
    }
   ],
   "source": [
    "pst.stem('loving')"
   ]
  },
  {
   "cell_type": "code",
   "execution_count": 29,
   "metadata": {},
   "outputs": [
    {
     "name": "stdout",
     "output_type": "stream",
     "text": [
      "give : give\n",
      "giving : give\n",
      "given : given\n",
      "gave : gave\n"
     ]
    }
   ],
   "source": [
    "word = ['give', 'giving', 'given', 'gave']\n",
    "for words in word:\n",
    "    print(words+\" : \"+pst.stem(words))"
   ]
  },
  {
   "cell_type": "code",
   "execution_count": 30,
   "metadata": {},
   "outputs": [
    {
     "name": "stdout",
     "output_type": "stream",
     "text": [
      "give : giv\n",
      "giving : giv\n",
      "given : giv\n",
      "gave : gav\n"
     ]
    }
   ],
   "source": [
    "from nltk.stem import LancasterStemmer\n",
    "lcs = LancasterStemmer()\n",
    "for words in word:\n",
    "    print(words+\" : \"+lcs.stem(words))"
   ]
  },
  {
   "cell_type": "code",
   "execution_count": 31,
   "metadata": {},
   "outputs": [
    {
     "name": "stdout",
     "output_type": "stream",
     "text": [
      "give : give\n",
      "giving : give\n",
      "given : given\n",
      "gave : gave\n"
     ]
    }
   ],
   "source": [
    "from nltk.stem import SnowballStemmer\n",
    "sb = SnowballStemmer('english')\n",
    "for words in word:\n",
    "    print(words+\" : \"+sb.stem(words))"
   ]
  },
  {
   "cell_type": "markdown",
   "metadata": {},
   "source": [
    "# Lemmatization"
   ]
  },
  {
   "cell_type": "code",
   "execution_count": 32,
   "metadata": {},
   "outputs": [],
   "source": [
    "from nltk.stem import wordnet\n",
    "from nltk.stem import WordNetLemmatizer as wnl\n",
    "word_len=wnl()"
   ]
  },
  {
   "cell_type": "code",
   "execution_count": 33,
   "metadata": {},
   "outputs": [
    {
     "data": {
      "text/plain": [
       "'corpus'"
      ]
     },
     "execution_count": 33,
     "metadata": {},
     "output_type": "execute_result"
    }
   ],
   "source": [
    "word_len.lemmatize('corpora')"
   ]
  },
  {
   "cell_type": "code",
   "execution_count": 34,
   "metadata": {},
   "outputs": [
    {
     "name": "stdout",
     "output_type": "stream",
     "text": [
      "give : give\n",
      "giving : giving\n",
      "given : given\n",
      "gave : gave\n"
     ]
    }
   ],
   "source": [
    "for words in word:\n",
    "    print(words+\" : \"+word_len.lemmatize(words))"
   ]
  },
  {
   "cell_type": "code",
   "execution_count": 35,
   "metadata": {},
   "outputs": [],
   "source": [
    "# Lemmatizer assume all words as nouns because we have assigned any POStags here in previous cell."
   ]
  },
  {
   "cell_type": "code",
   "execution_count": 36,
   "metadata": {},
   "outputs": [],
   "source": [
    "# A list of words which are not very meaningful for computer or NLP."
   ]
  },
  {
   "cell_type": "code",
   "execution_count": 37,
   "metadata": {},
   "outputs": [
    {
     "data": {
      "text/plain": [
       "['i',\n",
       " 'me',\n",
       " 'my',\n",
       " 'myself',\n",
       " 'we',\n",
       " 'our',\n",
       " 'ours',\n",
       " 'ourselves',\n",
       " 'you',\n",
       " \"you're\",\n",
       " \"you've\",\n",
       " \"you'll\",\n",
       " \"you'd\",\n",
       " 'your',\n",
       " 'yours',\n",
       " 'yourself',\n",
       " 'yourselves',\n",
       " 'he',\n",
       " 'him',\n",
       " 'his',\n",
       " 'himself',\n",
       " 'she',\n",
       " \"she's\",\n",
       " 'her',\n",
       " 'hers',\n",
       " 'herself',\n",
       " 'it',\n",
       " \"it's\",\n",
       " 'its',\n",
       " 'itself',\n",
       " 'they',\n",
       " 'them',\n",
       " 'their',\n",
       " 'theirs',\n",
       " 'themselves',\n",
       " 'what',\n",
       " 'which',\n",
       " 'who',\n",
       " 'whom',\n",
       " 'this',\n",
       " 'that',\n",
       " \"that'll\",\n",
       " 'these',\n",
       " 'those',\n",
       " 'am',\n",
       " 'is',\n",
       " 'are',\n",
       " 'was',\n",
       " 'were',\n",
       " 'be',\n",
       " 'been',\n",
       " 'being',\n",
       " 'have',\n",
       " 'has',\n",
       " 'had',\n",
       " 'having',\n",
       " 'do',\n",
       " 'does',\n",
       " 'did',\n",
       " 'doing',\n",
       " 'a',\n",
       " 'an',\n",
       " 'the',\n",
       " 'and',\n",
       " 'but',\n",
       " 'if',\n",
       " 'or',\n",
       " 'because',\n",
       " 'as',\n",
       " 'until',\n",
       " 'while',\n",
       " 'of',\n",
       " 'at',\n",
       " 'by',\n",
       " 'for',\n",
       " 'with',\n",
       " 'about',\n",
       " 'against',\n",
       " 'between',\n",
       " 'into',\n",
       " 'through',\n",
       " 'during',\n",
       " 'before',\n",
       " 'after',\n",
       " 'above',\n",
       " 'below',\n",
       " 'to',\n",
       " 'from',\n",
       " 'up',\n",
       " 'down',\n",
       " 'in',\n",
       " 'out',\n",
       " 'on',\n",
       " 'off',\n",
       " 'over',\n",
       " 'under',\n",
       " 'again',\n",
       " 'further',\n",
       " 'then',\n",
       " 'once',\n",
       " 'here',\n",
       " 'there',\n",
       " 'when',\n",
       " 'where',\n",
       " 'why',\n",
       " 'how',\n",
       " 'all',\n",
       " 'any',\n",
       " 'both',\n",
       " 'each',\n",
       " 'few',\n",
       " 'more',\n",
       " 'most',\n",
       " 'other',\n",
       " 'some',\n",
       " 'such',\n",
       " 'no',\n",
       " 'nor',\n",
       " 'not',\n",
       " 'only',\n",
       " 'own',\n",
       " 'same',\n",
       " 'so',\n",
       " 'than',\n",
       " 'too',\n",
       " 'very',\n",
       " 's',\n",
       " 't',\n",
       " 'can',\n",
       " 'will',\n",
       " 'just',\n",
       " 'don',\n",
       " \"don't\",\n",
       " 'should',\n",
       " \"should've\",\n",
       " 'now',\n",
       " 'd',\n",
       " 'll',\n",
       " 'm',\n",
       " 'o',\n",
       " 're',\n",
       " 've',\n",
       " 'y',\n",
       " 'ain',\n",
       " 'aren',\n",
       " \"aren't\",\n",
       " 'couldn',\n",
       " \"couldn't\",\n",
       " 'didn',\n",
       " \"didn't\",\n",
       " 'doesn',\n",
       " \"doesn't\",\n",
       " 'hadn',\n",
       " \"hadn't\",\n",
       " 'hasn',\n",
       " \"hasn't\",\n",
       " 'haven',\n",
       " \"haven't\",\n",
       " 'isn',\n",
       " \"isn't\",\n",
       " 'ma',\n",
       " 'mightn',\n",
       " \"mightn't\",\n",
       " 'mustn',\n",
       " \"mustn't\",\n",
       " 'needn',\n",
       " \"needn't\",\n",
       " 'shan',\n",
       " \"shan't\",\n",
       " 'shouldn',\n",
       " \"shouldn't\",\n",
       " 'wasn',\n",
       " \"wasn't\",\n",
       " 'weren',\n",
       " \"weren't\",\n",
       " 'won',\n",
       " \"won't\",\n",
       " 'wouldn',\n",
       " \"wouldn't\"]"
      ]
     },
     "execution_count": 37,
     "metadata": {},
     "output_type": "execute_result"
    }
   ],
   "source": [
    "from nltk.corpus import stopwords\n",
    "stopwords.words('english')"
   ]
  },
  {
   "cell_type": "code",
   "execution_count": 38,
   "metadata": {},
   "outputs": [
    {
     "data": {
      "text/plain": [
       "179"
      ]
     },
     "execution_count": 38,
     "metadata": {},
     "output_type": "execute_result"
    }
   ],
   "source": [
    "len(stopwords.words('english'))"
   ]
  },
  {
   "cell_type": "code",
   "execution_count": 39,
   "metadata": {},
   "outputs": [
    {
     "data": {
      "text/plain": [
       "[('.', 46),\n",
       " (',', 29),\n",
       " (\"'\", 13),\n",
       " ('the', 11),\n",
       " ('of', 10),\n",
       " ('and', 10),\n",
       " ('it', 9),\n",
       " ('fran', 8),\n",
       " ('horatio', 8),\n",
       " ('mar', 8)]"
      ]
     },
     "execution_count": 39,
     "metadata": {},
     "output_type": "execute_result"
    }
   ],
   "source": [
    "fdist_top10"
   ]
  },
  {
   "cell_type": "code",
   "execution_count": 40,
   "metadata": {},
   "outputs": [],
   "source": [
    "# Here we can see that most of the words are stopwords except fran, horatio and mar and hence they can be removed."
   ]
  },
  {
   "cell_type": "code",
   "execution_count": 41,
   "metadata": {},
   "outputs": [],
   "source": [
    "import re\n",
    "punctuation=re.compile(r\"[-?,.'&:;()|0-9].!\")"
   ]
  },
  {
   "cell_type": "code",
   "execution_count": 42,
   "metadata": {},
   "outputs": [],
   "source": [
    "post_punc=[]\n",
    "for word in ham_tokens:\n",
    "    word = punctuation.sub(\"\",word)\n",
    "    if len(word)>0:\n",
    "            post_punc.append(word)"
   ]
  },
  {
   "cell_type": "code",
   "execution_count": 43,
   "metadata": {},
   "outputs": [
    {
     "data": {
      "text/plain": [
       "['The',\n",
       " 'Tragedie',\n",
       " 'of',\n",
       " 'Hamlet',\n",
       " 'by',\n",
       " 'William',\n",
       " 'Shakespeare',\n",
       " '1599',\n",
       " ']',\n",
       " 'Actus',\n",
       " 'Primus',\n",
       " '.',\n",
       " 'Scoena',\n",
       " 'Prima',\n",
       " '.',\n",
       " 'Enter',\n",
       " 'Barnardo',\n",
       " 'and',\n",
       " 'Francisco',\n",
       " 'two',\n",
       " 'Centinels',\n",
       " '.',\n",
       " 'Barnardo',\n",
       " '.',\n",
       " 'Who',\n",
       " \"'\",\n",
       " 's',\n",
       " 'there',\n",
       " '?',\n",
       " 'Fran',\n",
       " '.',\n",
       " 'Nay',\n",
       " 'answer',\n",
       " 'me',\n",
       " ':',\n",
       " 'Stand',\n",
       " '&',\n",
       " 'vnfold',\n",
       " 'your',\n",
       " 'selfe',\n",
       " 'Bar',\n",
       " '.',\n",
       " 'Long',\n",
       " 'liue',\n",
       " 'the',\n",
       " 'King',\n",
       " 'Fran',\n",
       " '.',\n",
       " 'Barnardo',\n",
       " '?',\n",
       " 'Bar',\n",
       " '.',\n",
       " 'He',\n",
       " 'Fran',\n",
       " '.',\n",
       " 'You',\n",
       " 'come',\n",
       " 'most',\n",
       " 'carefully',\n",
       " 'vpon',\n",
       " 'your',\n",
       " 'houre',\n",
       " 'Bar',\n",
       " '.',\n",
       " \"'\",\n",
       " 'Tis',\n",
       " 'now',\n",
       " 'strook',\n",
       " 'twelue',\n",
       " ',',\n",
       " 'get',\n",
       " 'thee',\n",
       " 'to',\n",
       " 'bed',\n",
       " 'Francisco',\n",
       " 'Fran',\n",
       " '.',\n",
       " 'For',\n",
       " 'this',\n",
       " 'releefe',\n",
       " 'much',\n",
       " 'thankes',\n",
       " ':',\n",
       " \"'\",\n",
       " 'Tis',\n",
       " 'bitter',\n",
       " 'cold',\n",
       " ',',\n",
       " 'And',\n",
       " 'I',\n",
       " 'am',\n",
       " 'sicke',\n",
       " 'at',\n",
       " 'heart',\n",
       " 'Barn',\n",
       " '.',\n",
       " 'Haue',\n",
       " 'you',\n",
       " 'had',\n",
       " 'quiet',\n",
       " 'Guard',\n",
       " '?',\n",
       " 'Fran',\n",
       " '.',\n",
       " 'Not',\n",
       " 'a',\n",
       " 'Mouse',\n",
       " 'stirring',\n",
       " 'Barn',\n",
       " '.',\n",
       " 'Well',\n",
       " ',',\n",
       " 'goodnight',\n",
       " '.',\n",
       " 'If',\n",
       " 'you',\n",
       " 'do',\n",
       " 'meet',\n",
       " 'Horatio',\n",
       " 'and',\n",
       " 'Marcellus',\n",
       " ',',\n",
       " 'the',\n",
       " 'Riuals',\n",
       " 'of',\n",
       " 'my',\n",
       " 'Watch',\n",
       " ',',\n",
       " 'bid',\n",
       " 'them',\n",
       " 'make',\n",
       " 'hast',\n",
       " '.',\n",
       " 'Enter',\n",
       " 'Horatio',\n",
       " 'and',\n",
       " 'Marcellus',\n",
       " '.',\n",
       " 'Fran',\n",
       " '.',\n",
       " 'I',\n",
       " 'thinke',\n",
       " 'I',\n",
       " 'heare',\n",
       " 'them',\n",
       " '.',\n",
       " 'Stand',\n",
       " ':',\n",
       " 'who',\n",
       " \"'\",\n",
       " 's',\n",
       " 'there',\n",
       " '?',\n",
       " 'Hor',\n",
       " '.',\n",
       " 'Friends',\n",
       " 'to',\n",
       " 'this',\n",
       " 'ground',\n",
       " 'Mar',\n",
       " '.',\n",
       " 'And',\n",
       " 'Leige',\n",
       " '-',\n",
       " 'men',\n",
       " 'to',\n",
       " 'the',\n",
       " 'Dane',\n",
       " 'Fran',\n",
       " '.',\n",
       " 'Giue',\n",
       " 'you',\n",
       " 'good',\n",
       " 'night',\n",
       " 'Mar',\n",
       " '.',\n",
       " 'O',\n",
       " 'farwel',\n",
       " 'honest',\n",
       " 'Soldier',\n",
       " ',',\n",
       " 'who',\n",
       " 'hath',\n",
       " 'relieu',\n",
       " \"'\",\n",
       " 'd',\n",
       " 'you',\n",
       " '?',\n",
       " 'Fra',\n",
       " '.',\n",
       " 'Barnardo',\n",
       " 'ha',\n",
       " \"'\",\n",
       " 's',\n",
       " 'my',\n",
       " 'place',\n",
       " ':',\n",
       " 'giue',\n",
       " 'you',\n",
       " 'goodnight',\n",
       " '.',\n",
       " 'Exit',\n",
       " 'Fran',\n",
       " '.',\n",
       " 'Mar',\n",
       " '.',\n",
       " 'Holla',\n",
       " 'Barnardo',\n",
       " 'Bar',\n",
       " '.',\n",
       " 'Say',\n",
       " ',',\n",
       " 'what',\n",
       " 'is',\n",
       " 'Horatio',\n",
       " 'there',\n",
       " '?',\n",
       " 'Hor',\n",
       " '.',\n",
       " 'A',\n",
       " 'peece',\n",
       " 'of',\n",
       " 'him',\n",
       " 'Bar',\n",
       " '.',\n",
       " 'Welcome',\n",
       " 'Horatio',\n",
       " ',',\n",
       " 'welcome',\n",
       " 'good',\n",
       " 'Marcellus',\n",
       " 'Mar',\n",
       " '.',\n",
       " 'What',\n",
       " ',',\n",
       " 'ha',\n",
       " \"'\",\n",
       " 's',\n",
       " 'this',\n",
       " 'thing',\n",
       " 'appear',\n",
       " \"'\",\n",
       " 'd',\n",
       " 'againe',\n",
       " 'to',\n",
       " 'night',\n",
       " 'Bar',\n",
       " '.',\n",
       " 'I',\n",
       " 'haue',\n",
       " 'seene',\n",
       " 'nothing',\n",
       " 'Mar',\n",
       " '.',\n",
       " 'Horatio',\n",
       " 'saies',\n",
       " ',',\n",
       " \"'\",\n",
       " 'tis',\n",
       " 'but',\n",
       " 'our',\n",
       " 'Fantasie',\n",
       " ',',\n",
       " 'And',\n",
       " 'will',\n",
       " 'not',\n",
       " 'let',\n",
       " 'beleefe',\n",
       " 'take',\n",
       " 'hold',\n",
       " 'of',\n",
       " 'him',\n",
       " 'Touching',\n",
       " 'this',\n",
       " 'dreaded',\n",
       " 'sight',\n",
       " ',',\n",
       " 'twice',\n",
       " 'seene',\n",
       " 'of',\n",
       " 'vs',\n",
       " ',',\n",
       " 'Therefore',\n",
       " 'I',\n",
       " 'haue',\n",
       " 'intreated',\n",
       " 'him',\n",
       " 'along',\n",
       " 'With',\n",
       " 'vs',\n",
       " ',',\n",
       " 'to',\n",
       " 'watch',\n",
       " 'the',\n",
       " 'minutes',\n",
       " 'of',\n",
       " 'this',\n",
       " 'Night',\n",
       " ',',\n",
       " 'That',\n",
       " 'if',\n",
       " 'againe',\n",
       " 'this',\n",
       " 'Apparition',\n",
       " 'come',\n",
       " ',',\n",
       " 'He',\n",
       " 'may',\n",
       " 'approue',\n",
       " 'our',\n",
       " 'eyes',\n",
       " ',',\n",
       " 'and',\n",
       " 'speake',\n",
       " 'to',\n",
       " 'it',\n",
       " 'Hor',\n",
       " '.',\n",
       " 'Tush',\n",
       " ',',\n",
       " 'tush',\n",
       " ',',\n",
       " \"'\",\n",
       " 'twill',\n",
       " 'not',\n",
       " 'appeare',\n",
       " 'Bar',\n",
       " '.',\n",
       " 'Sit',\n",
       " 'downe',\n",
       " 'a',\n",
       " '-',\n",
       " 'while',\n",
       " ',',\n",
       " 'And',\n",
       " 'let',\n",
       " 'vs',\n",
       " 'once',\n",
       " 'againe',\n",
       " 'assaile',\n",
       " 'your',\n",
       " 'eares',\n",
       " ',',\n",
       " 'That',\n",
       " 'are',\n",
       " 'so',\n",
       " 'fortified',\n",
       " 'against',\n",
       " 'our',\n",
       " 'Story',\n",
       " ',',\n",
       " 'What',\n",
       " 'we',\n",
       " 'two',\n",
       " 'Nights',\n",
       " 'haue',\n",
       " 'seene',\n",
       " 'Hor',\n",
       " '.',\n",
       " 'Well',\n",
       " ',',\n",
       " 'sit',\n",
       " 'we',\n",
       " 'downe',\n",
       " ',',\n",
       " 'And',\n",
       " 'let',\n",
       " 'vs',\n",
       " 'heare',\n",
       " 'Barnardo',\n",
       " 'speake',\n",
       " 'of',\n",
       " 'this',\n",
       " 'Barn',\n",
       " '.',\n",
       " 'Last',\n",
       " 'night',\n",
       " 'of',\n",
       " 'all',\n",
       " ',',\n",
       " 'When',\n",
       " 'yond',\n",
       " 'same',\n",
       " 'Starre',\n",
       " 'that',\n",
       " \"'\",\n",
       " 's',\n",
       " 'Westward',\n",
       " 'from',\n",
       " 'the',\n",
       " 'Pole',\n",
       " 'Had',\n",
       " 'made',\n",
       " 'his',\n",
       " 'course',\n",
       " 't',\n",
       " \"'\",\n",
       " 'illume',\n",
       " 'that',\n",
       " 'part',\n",
       " 'of',\n",
       " 'Heauen',\n",
       " 'Where',\n",
       " 'now',\n",
       " 'it',\n",
       " 'burnes',\n",
       " ',',\n",
       " 'Marcellus',\n",
       " 'and',\n",
       " 'my',\n",
       " 'selfe',\n",
       " ',',\n",
       " 'The',\n",
       " 'Bell',\n",
       " 'then',\n",
       " 'beating',\n",
       " 'one',\n",
       " 'Mar',\n",
       " '.',\n",
       " 'Peace',\n",
       " ',',\n",
       " 'breake',\n",
       " 'thee',\n",
       " 'of',\n",
       " ':',\n",
       " 'Enter',\n",
       " 'the',\n",
       " 'Ghost',\n",
       " '.',\n",
       " 'Looke',\n",
       " 'where',\n",
       " 'it',\n",
       " 'comes',\n",
       " 'againe',\n",
       " 'Barn',\n",
       " '.',\n",
       " 'In',\n",
       " 'the',\n",
       " 'same',\n",
       " 'figure',\n",
       " ',',\n",
       " 'like',\n",
       " 'the',\n",
       " 'King',\n",
       " 'that',\n",
       " \"'\",\n",
       " 's',\n",
       " 'dead',\n",
       " 'Mar',\n",
       " '.',\n",
       " 'Thou',\n",
       " 'art',\n",
       " 'a',\n",
       " 'Scholler',\n",
       " ';',\n",
       " 'speake',\n",
       " 'to',\n",
       " 'it',\n",
       " 'Horatio',\n",
       " 'Barn',\n",
       " '.',\n",
       " 'Lookes',\n",
       " 'it',\n",
       " 'not',\n",
       " 'like',\n",
       " 'the',\n",
       " 'King',\n",
       " '?',\n",
       " 'Marke',\n",
       " 'it',\n",
       " 'Horatio',\n",
       " 'Hora',\n",
       " '.',\n",
       " 'Most',\n",
       " 'like',\n",
       " ':',\n",
       " 'It',\n",
       " 'harrowes',\n",
       " 'me',\n",
       " 'with',\n",
       " 'fear',\n",
       " '&',\n",
       " 'wonder',\n",
       " 'Barn',\n",
       " '.',\n",
       " 'It',\n",
       " 'would',\n",
       " 'be',\n",
       " 'spoke',\n",
       " 'too',\n",
       " 'Mar',\n",
       " '.',\n",
       " 'Question',\n",
       " 'it',\n",
       " 'Horatio',\n",
       " 'Hor',\n",
       " '.']"
      ]
     },
     "execution_count": 43,
     "metadata": {},
     "output_type": "execute_result"
    }
   ],
   "source": [
    "post_punc"
   ]
  },
  {
   "cell_type": "markdown",
   "metadata": {},
   "source": [
    "# POStags"
   ]
  },
  {
   "cell_type": "code",
   "execution_count": 44,
   "metadata": {},
   "outputs": [],
   "source": [
    "sent = \"Timothy is a natural when it comes to drawing\"\n",
    "sent_t = w_t(sent)"
   ]
  },
  {
   "cell_type": "code",
   "execution_count": 45,
   "metadata": {},
   "outputs": [
    {
     "name": "stdout",
     "output_type": "stream",
     "text": [
      "[('Timothy', 'NN')]\n",
      "[('is', 'VBZ')]\n",
      "[('a', 'DT')]\n",
      "[('natural', 'JJ')]\n",
      "[('when', 'WRB')]\n",
      "[('it', 'PRP')]\n",
      "[('comes', 'VBZ')]\n",
      "[('to', 'TO')]\n",
      "[('drawing', 'VBG')]\n"
     ]
    }
   ],
   "source": [
    "for token in sent_t:\n",
    "    print(nltk.pos_tag([token]))"
   ]
  },
  {
   "cell_type": "markdown",
   "metadata": {},
   "source": [
    "# Named entity recognition"
   ]
  },
  {
   "cell_type": "code",
   "execution_count": 46,
   "metadata": {},
   "outputs": [],
   "source": [
    "from nltk import ne_chunk\n",
    "NE_sent = \"The US President stays in the White House\""
   ]
  },
  {
   "cell_type": "code",
   "execution_count": 47,
   "metadata": {},
   "outputs": [],
   "source": [
    "ne_t = w_t(NE_sent)"
   ]
  },
  {
   "cell_type": "code",
   "execution_count": 48,
   "metadata": {},
   "outputs": [],
   "source": [
    "ne_tags = nltk.pos_tag(ne_t)"
   ]
  },
  {
   "cell_type": "code",
   "execution_count": 49,
   "metadata": {},
   "outputs": [
    {
     "name": "stdout",
     "output_type": "stream",
     "text": [
      "(S\n",
      "  The/DT\n",
      "  (ORGANIZATION US/NNP)\n",
      "  President/NNP\n",
      "  stays/VBZ\n",
      "  in/IN\n",
      "  the/DT\n",
      "  (FACILITY White/NNP House/NNP))\n"
     ]
    }
   ],
   "source": [
    "ne_ner = ne_chunk(ne_tags)\n",
    "print(ne_ner)"
   ]
  },
  {
   "cell_type": "markdown",
   "metadata": {},
   "source": [
    "## Chunking: Making sense of extracted words/chunks"
   ]
  },
  {
   "cell_type": "code",
   "execution_count": 50,
   "metadata": {},
   "outputs": [
    {
     "data": {
      "text/plain": [
       "[('The', 'DT'),\n",
       " ('cat', 'NN'),\n",
       " ('ate', 'VB'),\n",
       " ('the', 'DT'),\n",
       " ('little', 'JJ'),\n",
       " ('mouse', 'NN'),\n",
       " ('who', 'WP'),\n",
       " ('was', 'VBD'),\n",
       " ('after', 'IN'),\n",
       " ('fresh', 'JJ'),\n",
       " ('cheese', 'NN')]"
      ]
     },
     "execution_count": 50,
     "metadata": {},
     "output_type": "execute_result"
    }
   ],
   "source": [
    "sen = \"The cat ate the little mouse who was after fresh cheese\"\n",
    "tok = nltk.pos_tag(w_t(sen))\n",
    "tok"
   ]
  },
  {
   "cell_type": "code",
   "execution_count": 51,
   "metadata": {},
   "outputs": [],
   "source": [
    "grammar_np = \"NP: {<DT>?<JJ>*<NN>}\""
   ]
  },
  {
   "cell_type": "code",
   "execution_count": 52,
   "metadata": {},
   "outputs": [],
   "source": [
    "chunk_parsar = nltk.RegexpParser(grammar_np)"
   ]
  },
  {
   "cell_type": "code",
   "execution_count": 53,
   "metadata": {},
   "outputs": [],
   "source": [
    "chunk_result = chunk_parsar.parse(tok)\n",
    "chunk_result.draw()"
   ]
  },
  {
   "cell_type": "code",
   "execution_count": 54,
   "metadata": {},
   "outputs": [],
   "source": [
    "# Above we can see the tree structure and find chunks."
   ]
  }
 ],
 "metadata": {
  "kernelspec": {
   "display_name": "Python 3",
   "language": "python",
   "name": "python3"
  },
  "language_info": {
   "codemirror_mode": {
    "name": "ipython",
    "version": 3
   },
   "file_extension": ".py",
   "mimetype": "text/x-python",
   "name": "python",
   "nbconvert_exporter": "python",
   "pygments_lexer": "ipython3",
   "version": "3.7.4"
  }
 },
 "nbformat": 4,
 "nbformat_minor": 4
}
