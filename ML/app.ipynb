{
 "cells": [
  {
   "cell_type": "code",
   "execution_count": 12,
   "metadata": {},
   "outputs": [
    {
     "name": "stdout",
     "output_type": "stream",
     "text": [
      "1 is odd.\n",
      "2 is even.\n",
      "3 is odd.\n",
      "4 is even.\n",
      "5 is odd.\n",
      "Done!\n"
     ]
    }
   ],
   "source": [
    "listnum = [1,2,3,4,5]\n",
    "\n",
    "for i in listnum:\n",
    "    print(i,\"\",end='')\n",
    "    if (i%2==0):\n",
    "        print('is even.')\n",
    "    else: \n",
    "        print('is odd.')\n",
    "    \n",
    "print('Done!')"
   ]
  },
  {
   "cell_type": "code",
   "execution_count": 14,
   "metadata": {},
   "outputs": [
    {
     "name": "stdout",
     "output_type": "stream",
     "text": [
      "[21.82474689 17.81272421 27.99648195 16.71540202 17.49485111 17.46316669\n",
      " 25.98335096 25.65211125 24.81174054 28.81494599]\n"
     ]
    }
   ],
   "source": [
    "import numpy as np\n",
    "\n",
    "A = np.random.normal(25.0,5.0,10)\n",
    "print(A)"
   ]
  },
  {
   "cell_type": "code",
   "execution_count": null,
   "metadata": {},
   "outputs": [],
   "source": [
    "length = int(input('Length : '))\n",
    "listnum = []\n",
    "n=0\n",
    "while n<length:\n",
    "    a=int(input())\n",
    "    listnum.append(a)\n",
    "    n=n+1\n",
    "print(listnum)\n",
    "print(\"Even numbers are:\")\n",
    "for num in listnum:\n",
    "    if num%2==0:\n",
    "        print(num,'',end='')\n",
    "    "
   ]
  },
  {
   "cell_type": "code",
   "execution_count": null,
   "metadata": {},
   "outputs": [],
   "source": []
  }
 ],
 "metadata": {
  "kernelspec": {
   "display_name": "Python 3",
   "language": "python",
   "name": "python3"
  },
  "language_info": {
   "codemirror_mode": {
    "name": "ipython",
    "version": 3
   },
   "file_extension": ".py",
   "mimetype": "text/x-python",
   "name": "python",
   "nbconvert_exporter": "python",
   "pygments_lexer": "ipython3",
   "version": "3.7.3"
  }
 },
 "nbformat": 4,
 "nbformat_minor": 2
}
